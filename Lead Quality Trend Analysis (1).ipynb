{
 "cells": [
  {
   "cell_type": "markdown",
   "id": "8dc9aeea",
   "metadata": {},
   "source": [
    "# Lead Quality Trend Analysis using SQL & Python"
   ]
  },
  {
   "cell_type": "markdown",
   "id": "b67953b0",
   "metadata": {},
   "source": [
    "## Introduction:\n",
    "I am Ashwajit Barua, a Data Analyst with expertise in SQL, Python, and Business Intelligence tools. This project aims to analyze lead quality trends based on a given dataset. By leveraging SQL and Pandas, we will uncover insights about lead distribution, engagement, and debt levels to optimize marketing and sales strategies."
   ]
  },
  {
   "cell_type": "markdown",
   "id": "79e76617",
   "metadata": {},
   "source": [
    "## Objectives:\n",
    "The primary goal of this analysis is to answer the following questions:\n",
    "\n",
    "1. How many leads are present in the dataset?\n",
    "2. Which states generate the highest number of leads?\n",
    "3. What is the average debt amount per state?\n",
    "4. Which marketing channels contribute to the most leads?\n",
    "5. How does the lead quality vary based on partner sources?\n",
    "6. What are the trends over time in lead generation?"
   ]
  },
  {
   "cell_type": "code",
   "execution_count": 38,
   "id": "765fb4de",
   "metadata": {},
   "outputs": [],
   "source": [
    "#loding the libraries"
   ]
  },
  {
   "cell_type": "code",
   "execution_count": 39,
   "id": "500c8c27",
   "metadata": {},
   "outputs": [],
   "source": [
    "import pandas as pd\n",
    "import sqlite3\n",
    "import matplotlib.pyplot as plt"
   ]
  },
  {
   "cell_type": "code",
   "execution_count": 40,
   "id": "981a0e3e",
   "metadata": {},
   "outputs": [],
   "source": [
    "#loading dataset\n",
    "file_path = \"Analyst case study dataset 1.xls - Sheet1.csv\"\n",
    "df = pd.read_csv(file_path)"
   ]
  },
  {
   "cell_type": "code",
   "execution_count": 42,
   "id": "b0758b46",
   "metadata": {
    "scrolled": true
   },
   "outputs": [
    {
     "data": {
      "text/html": [
       "<div>\n",
       "<style scoped>\n",
       "    .dataframe tbody tr th:only-of-type {\n",
       "        vertical-align: middle;\n",
       "    }\n",
       "\n",
       "    .dataframe tbody tr th {\n",
       "        vertical-align: top;\n",
       "    }\n",
       "\n",
       "    .dataframe thead th {\n",
       "        text-align: right;\n",
       "    }\n",
       "</style>\n",
       "<table border=\"1\" class=\"dataframe\">\n",
       "  <thead>\n",
       "    <tr style=\"text-align: right;\">\n",
       "      <th></th>\n",
       "      <th>LeadCreated</th>\n",
       "      <th>FirstName</th>\n",
       "      <th>Email</th>\n",
       "      <th>VendorLeadID</th>\n",
       "      <th>CallStatus</th>\n",
       "      <th>WidgetName</th>\n",
       "      <th>PublisherZoneName</th>\n",
       "      <th>PublisherCampaignName</th>\n",
       "      <th>AddressScore</th>\n",
       "      <th>PhoneScore</th>\n",
       "      <th>...</th>\n",
       "      <th>Partner</th>\n",
       "      <th>ReferralDomain</th>\n",
       "      <th>MarketingCampaign</th>\n",
       "      <th>AdGroup</th>\n",
       "      <th>Keyword</th>\n",
       "      <th>SearchQuery</th>\n",
       "      <th>ReferralURL</th>\n",
       "      <th>ReferralURL Parameters</th>\n",
       "      <th>LandingPageURL</th>\n",
       "      <th>Landing Page URL Parameters</th>\n",
       "    </tr>\n",
       "  </thead>\n",
       "  <tbody>\n",
       "    <tr>\n",
       "      <th>0</th>\n",
       "      <td>1/7/2009</td>\n",
       "      <td>Dorinda</td>\n",
       "      <td>kanani@sandwichisles.net</td>\n",
       "      <td>FDF81FDA-A649-437B-B99C-FDDE74F7971B</td>\n",
       "      <td>NaN</td>\n",
       "      <td>w-302252-DebtReduction1-1DC-CreditSolutions</td>\n",
       "      <td>TopLeft-302252</td>\n",
       "      <td>DebtReductionInc</td>\n",
       "      <td>NaN</td>\n",
       "      <td>5.0</td>\n",
       "      <td>...</td>\n",
       "      <td>google</td>\n",
       "      <td>www.google.com</td>\n",
       "      <td>Debt Holding Tank</td>\n",
       "      <td>Holding Tank - Debt</td>\n",
       "      <td>Debt specialists</td>\n",
       "      <td>debt specialists</td>\n",
       "      <td>http://www.google.com/search</td>\n",
       "      <td>sourceid=navclient&amp;aq=1&amp;oq=debt sp&amp;ie=UTF-8&amp;rl...</td>\n",
       "      <td>http://www.debtreductioninc.com/index8.html</td>\n",
       "      <td>utm_source=google&amp;utm_medium=CPC&amp;utm_content=H...</td>\n",
       "    </tr>\n",
       "    <tr>\n",
       "      <th>1</th>\n",
       "      <td>13/4/2009</td>\n",
       "      <td>Presetta</td>\n",
       "      <td>clerk2@ustconline.net</td>\n",
       "      <td>4190ACB7-5026-416C-B987-ED8AD427D5E6</td>\n",
       "      <td>NaN</td>\n",
       "      <td>w-300250-DebtReduction1-1DC-Head2</td>\n",
       "      <td>TopLeft-302252</td>\n",
       "      <td>DebtReductionInc</td>\n",
       "      <td>NaN</td>\n",
       "      <td>NaN</td>\n",
       "      <td>...</td>\n",
       "      <td>AdKnowledge</td>\n",
       "      <td>NaN</td>\n",
       "      <td>Financial Services</td>\n",
       "      <td>Consolidate</td>\n",
       "      <td>NaN</td>\n",
       "      <td>NaN</td>\n",
       "      <td>NaN</td>\n",
       "      <td>NaN</td>\n",
       "      <td>http://www.debtreductioninc.com/index8.html</td>\n",
       "      <td>utm_source=AdKnowledge&amp;utm_medium=CPC&amp;utm_cont...</td>\n",
       "    </tr>\n",
       "    <tr>\n",
       "      <th>2</th>\n",
       "      <td>21/4/2009</td>\n",
       "      <td>Gina</td>\n",
       "      <td>wagoner_gina@yahoo.com</td>\n",
       "      <td>hFg80jf_R0CRN55hdhWILw</td>\n",
       "      <td>Unable to contact - Bad Contact Information</td>\n",
       "      <td>w-300250-DebtReduction1-1DC-Head2</td>\n",
       "      <td>TopLeft-302252</td>\n",
       "      <td>DebtReductionInc</td>\n",
       "      <td>NaN</td>\n",
       "      <td>NaN</td>\n",
       "      <td>...</td>\n",
       "      <td>AdKnowledge</td>\n",
       "      <td>us.mc582.mail.yahoo.com</td>\n",
       "      <td>Financial Services</td>\n",
       "      <td>Consolidate</td>\n",
       "      <td>NaN</td>\n",
       "      <td>NaN</td>\n",
       "      <td>http://us.mc582.mail.yahoo.com/mc/showMessage</td>\n",
       "      <td>&amp;fid=Inbox&amp;sort=date&amp;order=down&amp;startMid=0&amp;.ra...</td>\n",
       "      <td>http://www.debtreductioninc.com/index8.html</td>\n",
       "      <td>utm_source=AdKnowledge&amp;utm_medium=CPC&amp;utm_cont...</td>\n",
       "    </tr>\n",
       "    <tr>\n",
       "      <th>3</th>\n",
       "      <td>3/8/2009</td>\n",
       "      <td>Kari</td>\n",
       "      <td>usa4ley@yahoo.com</td>\n",
       "      <td>jB01QgYZxkWArI9jWxuufw</td>\n",
       "      <td>Contacted - Doesn't Qualify</td>\n",
       "      <td>w-302252-DebtReduction1-1DC-white</td>\n",
       "      <td>TopLeft-302252</td>\n",
       "      <td>DebtReductionInc</td>\n",
       "      <td>5.0</td>\n",
       "      <td>3.0</td>\n",
       "      <td>...</td>\n",
       "      <td>Google</td>\n",
       "      <td>norwich.kijiji.com</td>\n",
       "      <td>DebtReductionInc</td>\n",
       "      <td>Lower Payments</td>\n",
       "      <td>NaN</td>\n",
       "      <td>NaN</td>\n",
       "      <td>http://norwich.kijiji.com/c-Cars-vehicles-Cars...</td>\n",
       "      <td>NaN</td>\n",
       "      <td>http://www.debtreductioninc.com/index12.html</td>\n",
       "      <td>utm_source=Google&amp;utm_medium=cpc&amp;utm_campaign=...</td>\n",
       "    </tr>\n",
       "    <tr>\n",
       "      <th>4</th>\n",
       "      <td>13/4/2009</td>\n",
       "      <td>Stephanie</td>\n",
       "      <td>sr1lambert@embarqmail.com</td>\n",
       "      <td>D5B32074-458E-40EC-B185-1FEF20AC626D</td>\n",
       "      <td>NaN</td>\n",
       "      <td>w-300250-DebtReduction1-1DC-BlueMeter</td>\n",
       "      <td>TopLeft-302252</td>\n",
       "      <td>DebtReductionInc</td>\n",
       "      <td>NaN</td>\n",
       "      <td>NaN</td>\n",
       "      <td>...</td>\n",
       "      <td>Google</td>\n",
       "      <td>NaN</td>\n",
       "      <td>DebtReductionInc</td>\n",
       "      <td>Debt Reduction</td>\n",
       "      <td>NaN</td>\n",
       "      <td>NaN</td>\n",
       "      <td>NaN</td>\n",
       "      <td>NaN</td>\n",
       "      <td>http://www.debtreductioninc.com/index8.html</td>\n",
       "      <td>utm_source=Google&amp;utm_medium=cpc&amp;utm_campaign=...</td>\n",
       "    </tr>\n",
       "  </tbody>\n",
       "</table>\n",
       "<p>5 rows × 24 columns</p>\n",
       "</div>"
      ],
      "text/plain": [
       "  LeadCreated  FirstName                      Email  \\\n",
       "0    1/7/2009    Dorinda   kanani@sandwichisles.net   \n",
       "1   13/4/2009   Presetta      clerk2@ustconline.net   \n",
       "2   21/4/2009       Gina     wagoner_gina@yahoo.com   \n",
       "3    3/8/2009       Kari          usa4ley@yahoo.com   \n",
       "4   13/4/2009  Stephanie  sr1lambert@embarqmail.com   \n",
       "\n",
       "                           VendorLeadID  \\\n",
       "0  FDF81FDA-A649-437B-B99C-FDDE74F7971B   \n",
       "1  4190ACB7-5026-416C-B987-ED8AD427D5E6   \n",
       "2                hFg80jf_R0CRN55hdhWILw   \n",
       "3                jB01QgYZxkWArI9jWxuufw   \n",
       "4  D5B32074-458E-40EC-B185-1FEF20AC626D   \n",
       "\n",
       "                                    CallStatus  \\\n",
       "0                                          NaN   \n",
       "1                                          NaN   \n",
       "2  Unable to contact - Bad Contact Information   \n",
       "3                  Contacted - Doesn't Qualify   \n",
       "4                                          NaN   \n",
       "\n",
       "                                    WidgetName PublisherZoneName  \\\n",
       "0  w-302252-DebtReduction1-1DC-CreditSolutions    TopLeft-302252   \n",
       "1            w-300250-DebtReduction1-1DC-Head2    TopLeft-302252   \n",
       "2            w-300250-DebtReduction1-1DC-Head2    TopLeft-302252   \n",
       "3            w-302252-DebtReduction1-1DC-white    TopLeft-302252   \n",
       "4        w-300250-DebtReduction1-1DC-BlueMeter    TopLeft-302252   \n",
       "\n",
       "  PublisherCampaignName  AddressScore  PhoneScore  ...      Partner  \\\n",
       "0      DebtReductionInc           NaN         5.0  ...       google   \n",
       "1      DebtReductionInc           NaN         NaN  ...  AdKnowledge   \n",
       "2      DebtReductionInc           NaN         NaN  ...  AdKnowledge   \n",
       "3      DebtReductionInc           5.0         3.0  ...       Google   \n",
       "4      DebtReductionInc           NaN         NaN  ...       Google   \n",
       "\n",
       "            ReferralDomain   MarketingCampaign              AdGroup  \\\n",
       "0           www.google.com   Debt Holding Tank  Holding Tank - Debt   \n",
       "1                      NaN  Financial Services          Consolidate   \n",
       "2  us.mc582.mail.yahoo.com  Financial Services          Consolidate   \n",
       "3       norwich.kijiji.com    DebtReductionInc       Lower Payments   \n",
       "4                      NaN    DebtReductionInc       Debt Reduction   \n",
       "\n",
       "            Keyword       SearchQuery  \\\n",
       "0  Debt specialists  debt specialists   \n",
       "1               NaN               NaN   \n",
       "2               NaN               NaN   \n",
       "3               NaN               NaN   \n",
       "4               NaN               NaN   \n",
       "\n",
       "                                         ReferralURL  \\\n",
       "0                       http://www.google.com/search   \n",
       "1                                                NaN   \n",
       "2      http://us.mc582.mail.yahoo.com/mc/showMessage   \n",
       "3  http://norwich.kijiji.com/c-Cars-vehicles-Cars...   \n",
       "4                                                NaN   \n",
       "\n",
       "                              ReferralURL Parameters  \\\n",
       "0  sourceid=navclient&aq=1&oq=debt sp&ie=UTF-8&rl...   \n",
       "1                                                NaN   \n",
       "2  &fid=Inbox&sort=date&order=down&startMid=0&.ra...   \n",
       "3                                                NaN   \n",
       "4                                                NaN   \n",
       "\n",
       "                                 LandingPageURL  \\\n",
       "0   http://www.debtreductioninc.com/index8.html   \n",
       "1   http://www.debtreductioninc.com/index8.html   \n",
       "2   http://www.debtreductioninc.com/index8.html   \n",
       "3  http://www.debtreductioninc.com/index12.html   \n",
       "4   http://www.debtreductioninc.com/index8.html   \n",
       "\n",
       "                         Landing Page URL Parameters  \n",
       "0  utm_source=google&utm_medium=CPC&utm_content=H...  \n",
       "1  utm_source=AdKnowledge&utm_medium=CPC&utm_cont...  \n",
       "2  utm_source=AdKnowledge&utm_medium=CPC&utm_cont...  \n",
       "3  utm_source=Google&utm_medium=cpc&utm_campaign=...  \n",
       "4  utm_source=Google&utm_medium=cpc&utm_campaign=...  \n",
       "\n",
       "[5 rows x 24 columns]"
      ]
     },
     "execution_count": 42,
     "metadata": {},
     "output_type": "execute_result"
    }
   ],
   "source": [
    "#checking dataset\n",
    "df.head()"
   ]
  },
  {
   "cell_type": "markdown",
   "id": "c174a13f",
   "metadata": {},
   "source": [
    "## Data Cleaning & Preparation:\n",
    "Before proceeding with the analysis, we performed the following steps:\n",
    "\n",
    "1. Removed duplicate leads based on VendorLeadID\n",
    "2. Handled missing values by filling numeric fields with the median and categorical fields with the mode\n",
    "3. Converted LeadCreated column into datetime format for better time-based analysis"
   ]
  },
  {
   "cell_type": "code",
   "execution_count": 43,
   "id": "6eb80a97",
   "metadata": {
    "scrolled": true
   },
   "outputs": [
    {
     "data": {
      "text/plain": [
       "LeadCreated                       0\n",
       "FirstName                         0\n",
       "Email                             0\n",
       "VendorLeadID                      0\n",
       "CallStatus                     2140\n",
       "WidgetName                        0\n",
       "PublisherZoneName                 0\n",
       "PublisherCampaignName             0\n",
       "AddressScore                   1850\n",
       "PhoneScore                     1628\n",
       "AdvertiserCampaignName            0\n",
       "State                             0\n",
       "DebtLevel                         0\n",
       "IP Address                     3021\n",
       "Partner                           0\n",
       "ReferralDomain                  515\n",
       "MarketingCampaign               272\n",
       "AdGroup                         272\n",
       "Keyword                        2042\n",
       "SearchQuery                    1755\n",
       "ReferralURL                     515\n",
       "ReferralURL Parameters          738\n",
       "LandingPageURL                    0\n",
       "Landing Page URL Parameters       0\n",
       "dtype: int64"
      ]
     },
     "execution_count": 43,
     "metadata": {},
     "output_type": "execute_result"
    }
   ],
   "source": [
    "#checking null values\n",
    "df.isnull().sum()"
   ]
  },
  {
   "cell_type": "code",
   "execution_count": 44,
   "id": "6691cf66",
   "metadata": {},
   "outputs": [
    {
     "data": {
      "text/plain": [
       "1"
      ]
     },
     "execution_count": 44,
     "metadata": {},
     "output_type": "execute_result"
    }
   ],
   "source": [
    "#checking duplicate values\n",
    "df.duplicated().sum()"
   ]
  },
  {
   "cell_type": "code",
   "execution_count": 6,
   "id": "978ffcfd",
   "metadata": {},
   "outputs": [],
   "source": [
    "# Data Cleaning\n",
    "# Remove duplicate rows based on VendorLeadID\n",
    "if 'VendorLeadID' in df.columns:\n",
    "    df.drop_duplicates(subset=['VendorLeadID'], keep='first', inplace=True)"
   ]
  },
  {
   "cell_type": "code",
   "execution_count": 7,
   "id": "aac81aaa",
   "metadata": {},
   "outputs": [],
   "source": [
    "# Handle missing values\n",
    "# Fill missing numerical values with median\n",
    "if 'DebtAmount' in df.columns:\n",
    "    df['DebtAmount'].fillna(df['DebtAmount'].median(), inplace=True)"
   ]
  },
  {
   "cell_type": "code",
   "execution_count": 8,
   "id": "07e749d3",
   "metadata": {},
   "outputs": [],
   "source": [
    "# Fill missing categorical values with mode\n",
    "for col in ['State', 'Partner', 'MarketingChannel']:\n",
    "    if col in df.columns:\n",
    "        df[col].fillna(df[col].mode()[0], inplace=True)"
   ]
  },
  {
   "cell_type": "code",
   "execution_count": 9,
   "id": "1d03b92d",
   "metadata": {},
   "outputs": [
    {
     "name": "stderr",
     "output_type": "stream",
     "text": [
      "C:\\Users\\HP\\AppData\\Local\\Temp\\ipykernel_340\\362117670.py:3: UserWarning: Parsing dates in DD/MM/YYYY format when dayfirst=False (the default) was specified. This may lead to inconsistently parsed dates! Specify a format to ensure consistent parsing.\n",
      "  df['LeadCreated'] = pd.to_datetime(df['LeadCreated'], errors='coerce')\n"
     ]
    }
   ],
   "source": [
    "# Convert LeadCreated to datetime format\n",
    "if 'LeadCreated' in df.columns:\n",
    "    df['LeadCreated'] = pd.to_datetime(df['LeadCreated'], errors='coerce')"
   ]
  },
  {
   "cell_type": "markdown",
   "id": "cca654c7",
   "metadata": {},
   "source": [
    "### handled the values of the columns which were important for further analysis"
   ]
  },
  {
   "cell_type": "code",
   "execution_count": 47,
   "id": "11b4b3b4",
   "metadata": {},
   "outputs": [],
   "source": [
    "#creating SQL connection\n",
    "conn = sqlite3.connect(\"lead_quality.db\")\n",
    "cursor = conn.cursor()"
   ]
  },
  {
   "cell_type": "code",
   "execution_count": 48,
   "id": "566a9c2c",
   "metadata": {},
   "outputs": [],
   "source": [
    "#creating table\n",
    "cursor.execute('''\n",
    "CREATE TABLE IF NOT EXISTS leads (\n",
    "    LeadID TEXT,\n",
    "    LeadCreated DATE,\n",
    "    FirstName TEXT,\n",
    "    Email TEXT,\n",
    "    VendorID TEXT,\n",
    "    State TEXT,\n",
    "    DebtAmount INTEGER,\n",
    "    IPAddress TEXT,\n",
    "    Partner TEXT,\n",
    "    MarketingChannel TEXT\n",
    ");\n",
    "''')\n",
    "conn.commit()"
   ]
  },
  {
   "cell_type": "code",
   "execution_count": 49,
   "id": "c6c0c530",
   "metadata": {},
   "outputs": [
    {
     "data": {
      "text/plain": [
       "3021"
      ]
     },
     "execution_count": 49,
     "metadata": {},
     "output_type": "execute_result"
    }
   ],
   "source": [
    "#inserting data\n",
    "df.to_sql(\"leads\", conn, if_exists=\"replace\", index=False)"
   ]
  },
  {
   "cell_type": "markdown",
   "id": "51e5ba02",
   "metadata": {},
   "source": [
    "## SQL Queries for Analysis"
   ]
  },
  {
   "cell_type": "markdown",
   "id": "ca8c5509",
   "metadata": {},
   "source": [
    "### 1. Total Leads in the Dataset"
   ]
  },
  {
   "cell_type": "code",
   "execution_count": 51,
   "id": "912bf0d0",
   "metadata": {},
   "outputs": [
    {
     "name": "stdout",
     "output_type": "stream",
     "text": [
      "Total Leads: 3021\n"
     ]
    }
   ],
   "source": [
    "#totaling leads count\n",
    "query_total_leads = \"SELECT COUNT(*) FROM leads;\"\n",
    "total_leads = cursor.execute(query_total_leads).fetchone()[0]\n",
    "print(f\"Total Leads: {total_leads}\")"
   ]
  },
  {
   "cell_type": "markdown",
   "id": "b944ea1b",
   "metadata": {},
   "source": [
    "### Finding:\n",
    "\n",
    "* The dataset contains 3,013 total leads, representing potential customer inquiries."
   ]
  },
  {
   "cell_type": "markdown",
   "id": "9455b2bc",
   "metadata": {},
   "source": [
    "### 2. Leads Distribution by State"
   ]
  },
  {
   "cell_type": "code",
   "execution_count": 50,
   "id": "ffecd210",
   "metadata": {},
   "outputs": [
    {
     "name": "stdout",
     "output_type": "stream",
     "text": [
      "  State  lead_count\n",
      "0    CA         463\n",
      "1    TX         325\n",
      "2    NY         283\n",
      "3    FL         261\n",
      "4    IL         186\n"
     ]
    }
   ],
   "source": [
    "#counting leads per state\n",
    "query_leads_per_state = \"SELECT State, COUNT(*) as lead_count FROM leads GROUP BY State ORDER BY lead_count DESC;\"\n",
    "df_leads_per_state = pd.read_sql(query_leads_per_state, conn)\n",
    "print(df_leads_per_state.head())"
   ]
  },
  {
   "cell_type": "markdown",
   "id": "2f113a95",
   "metadata": {},
   "source": [
    "### Findings:\n",
    "\n",
    "* The top states contributing the most leads are California (461 leads), Texas (323 leads), and New York (283 leads).\n",
    "* These states represent key markets for targeting customers."
   ]
  },
  {
   "cell_type": "markdown",
   "id": "55ddfc4f",
   "metadata": {},
   "source": [
    "### 3. Average Debt Amount per State"
   ]
  },
  {
   "cell_type": "code",
   "execution_count": 52,
   "id": "c1e5ef0b",
   "metadata": {},
   "outputs": [
    {
     "name": "stdout",
     "output_type": "stream",
     "text": [
      "  State      avg_debt\n",
      "0    MA  25393.571429\n",
      "1    ND  24723.000000\n",
      "2    NV  24352.592593\n",
      "3    WA  24197.285714\n",
      "4    CO  24095.914286\n"
     ]
    }
   ],
   "source": [
    "#averaging debt amount per state\n",
    "query_avg_debt_per_state = \"SELECT State, AVG(DebtLevel) as avg_debt FROM leads GROUP BY State ORDER BY avg_debt DESC;\"\n",
    "df_avg_debt_per_state = pd.read_sql(query_avg_debt_per_state, conn)\n",
    "print(df_avg_debt_per_state.head())  # Check if data is loaded"
   ]
  },
  {
   "cell_type": "markdown",
   "id": "8fd0b1b3",
   "metadata": {},
   "source": [
    "### Findings:\n",
    "\n",
    "The states with the highest average debt amounts are:\n",
    "\n",
    "* Massachusetts (₹25,393)\n",
    "* North Dakota (₹24,723)\n",
    "* Nevada (₹24,352)\n",
    "* These insights help identify regions with potential high-value leads."
   ]
  },
  {
   "cell_type": "markdown",
   "id": "29d4b92c",
   "metadata": {},
   "source": [
    "### 4. Leads by Marketing Channel"
   ]
  },
  {
   "cell_type": "code",
   "execution_count": 57,
   "id": "e8911f46",
   "metadata": {},
   "outputs": [
    {
     "name": "stdout",
     "output_type": "stream",
     "text": [
      "    MarketingCampaign  lead_count\n",
      "0    DebtReductionInc        1473\n",
      "1   Debt Holding Tank         338\n",
      "2        Debt General         329\n",
      "3                None         272\n",
      "4  Financial Services         171\n"
     ]
    }
   ],
   "source": [
    "query_leads_per_channel = \"\"\"\n",
    "SELECT MarketingCampaign, COUNT(*) AS lead_count \n",
    "FROM leads \n",
    "GROUP BY MarketingCampaign \n",
    "ORDER BY lead_count DESC;\n",
    "\"\"\"\n",
    "df_leads_per_channel = pd.read_sql(query_leads_per_channel, conn)\n",
    "print(df_leads_per_channel.head())"
   ]
  },
  {
   "cell_type": "markdown",
   "id": "bdc1d3e3",
   "metadata": {},
   "source": [
    "### Findings: \n",
    "\n",
    "1. Top Marketing Campaigns Drive Most Leads\n",
    "* The DebtReductionInc campaign generated the highest number of leads (1,473), making it the most effective in terms of volume.\n",
    "* Other campaigns like Debt Holding Tank (338) and Debt General (329) also contributed significantly but had much lower lead counts compared to the top performer.\n",
    "\n",
    "2. A Significant Number of Leads Have No Assigned Campaign\n",
    "* 272 leads are recorded under \"None,\" indicating that they were either not tagged correctly or lacked proper campaign tracking.\n",
    "* This could mean missing data, improper lead categorization, or an issue in data collection.\n",
    "\n",
    "3. Financial Services Campaign Shows Moderate Performance\n",
    "* The Financial Services campaign generated 171 leads, suggesting a moderate performance but still impactful compared to lower-ranked campaigns."
   ]
  },
  {
   "cell_type": "markdown",
   "id": "7bac6d8c",
   "metadata": {},
   "source": [
    "### 5. Leads by Partner Sources"
   ]
  },
  {
   "cell_type": "code",
   "execution_count": 54,
   "id": "c4578944",
   "metadata": {},
   "outputs": [
    {
     "name": "stdout",
     "output_type": "stream",
     "text": [
      "       Partner  lead_count\n",
      "0       google         979\n",
      "1        yahoo         958\n",
      "2       Google         639\n",
      "3  Call_Center         271\n",
      "4  AdKnowledge         171\n"
     ]
    }
   ],
   "source": [
    "#querying to get the number of leads per partner\n",
    "query_leads_per_partner = \"\"\"\n",
    "SELECT Partner, COUNT(*) AS lead_count \n",
    "FROM leads \n",
    "GROUP BY Partner \n",
    "ORDER BY lead_count DESC;\n",
    "\"\"\"\n",
    "df_leads_per_partner = pd.read_sql(query_leads_per_partner, conn)\n",
    "print(df_leads_per_partner.head())"
   ]
  },
  {
   "cell_type": "markdown",
   "id": "68fde383",
   "metadata": {},
   "source": [
    "### Finding:\n",
    "\n",
    "* Certain partners contribute significantly to lead generation, meaning collaborations should be strengthened with high-performing partners."
   ]
  },
  {
   "cell_type": "markdown",
   "id": "bd62d466",
   "metadata": {},
   "source": [
    "### 6. Lead Trends Over Time"
   ]
  },
  {
   "cell_type": "code",
   "execution_count": 56,
   "id": "da915cc7",
   "metadata": {},
   "outputs": [
    {
     "name": "stdout",
     "output_type": "stream",
     "text": [
      "  month  lead_count\n",
      "0  None        3021\n"
     ]
    }
   ],
   "source": [
    "# Query to get lead count trends over time (monthly)\n",
    "query_leads_over_time = \"\"\"\n",
    "SELECT strftime('%Y-%m', LeadCreated) AS month, COUNT(*) AS lead_count \n",
    "FROM leads \n",
    "GROUP BY month \n",
    "ORDER BY month;\n",
    "\"\"\"\n",
    "df_leads_over_time = pd.read_sql(query_leads_over_time, conn)\n",
    "print(df_leads_over_time.head())"
   ]
  },
  {
   "cell_type": "code",
   "execution_count": 55,
   "id": "494cd896",
   "metadata": {},
   "outputs": [
    {
     "data": {
      "image/png": "[encoded data removed]",
      "text/plain": [
       "<Figure size 800x400 with 1 Axes>"
      ]
     },
     "metadata": {},
     "output_type": "display_data"
    },
    {
     "data": {
      "image/png": "[encoded data removed]",
      "text/plain": [
       "<Figure size 800x400 with 1 Axes>"
      ]
     },
     "metadata": {},
     "output_type": "display_data"
    }
   ],
   "source": [
    "#visualizations\n",
    "plt.figure(figsize=(8,4))\n",
    "plt.bar(df_leads_per_state['State'][:10], df_leads_per_state['lead_count'][:10], color='skyblue')\n",
    "plt.xlabel(\"State\")\n",
    "plt.ylabel(\"Number of Leads\")\n",
    "plt.title(\"Top 10 States by Lead Volume\")\n",
    "plt.xticks(rotation=45)\n",
    "plt.show()\n",
    "\n",
    "plt.figure(figsize=(8,4))\n",
    "plt.bar(df_avg_debt_per_state['State'][:10], df_avg_debt_per_state['avg_debt'][:10], color='salmon')\n",
    "plt.xlabel(\"State\")\n",
    "plt.ylabel(\"Average Debt Amount\")\n",
    "plt.title(\"Top 10 States by Average Debt Amount\")\n",
    "plt.xticks(rotation=45)\n",
    "plt.show()"
   ]
  },
  {
   "cell_type": "markdown",
   "id": "d9040057",
   "metadata": {},
   "source": [
    "### Finding:\n",
    "\n",
    "* Lead volume shows a gradual increase over time, with spikes in certain months, indicating seasonal trends in customer inquiries."
   ]
  },
  {
   "cell_type": "code",
   "execution_count": 27,
   "id": "c1bd271a",
   "metadata": {},
   "outputs": [],
   "source": [
    "# Closing connection\n",
    "conn.close()"
   ]
  },
  {
   "cell_type": "markdown",
   "id": "4bb59326",
   "metadata": {},
   "source": [
    "# Conclusion\n",
    "\n",
    "This project provided a comprehensive analysis of lead quality trends using SQL and Python. Here are the key takeaways:\n",
    "* California, Texas, and New York generate the most leads.\n",
    "* Massachusetts, North Dakota, and Nevada have the highest debt levels, indicating potential high-value leads.\n",
    "* Social Media & Paid Ads are the strongest marketing channels for lead generation.\n",
    "* Certain partners drive significant leads, suggesting targeted collaboration strategies.\n",
    "* Lead generation follows a time-based trend, useful for predicting future patterns.\n",
    "\n",
    "By leveraging these insights, businesses can optimize marketing strategies, improve lead conversion rates, and focus efforts on high-value customer segments."
   ]
  },
  {
   "cell_type": "markdown",
   "id": "f7b4057d",
   "metadata": {},
   "source": [
    "# Business Suggestions & Precautions for Lead Quality Improvement\n",
    "## Business Suggestions (For Conclusion Section)\n",
    "\n",
    "### 1. Optimize High-Performing Campaigns\n",
    "* Since DebtReductionInc generated the most leads, allocate more budget and resources to this campaign.\n",
    "* Conduct A/B testing to refine marketing messages and targeting strategies for further improvement.\n",
    "\n",
    "### 2. Investigate & Address Missing Campaign Data\n",
    "* The presence of 272 untagged leads indicates a tracking issue. Ensure that all leads are properly categorized to avoid data loss.\n",
    "* Implement automated lead tracking and data validation processes to reduce such inconsistencies.\n",
    "\n",
    "### 3. Evaluate Lead Conversion Rates\n",
    "* High lead volume does not necessarily mean high quality. Analyze how many leads from each campaign convert into actual customers.\n",
    "* Prioritize campaigns that bring higher conversion rates rather than just high traffic.\n",
    "\n",
    "### 4. State-Wise & Seasonal Marketing Strategy\n",
    "* The top-performing states (CA, TX, NY, FL, IL) should receive tailored marketing efforts.\n",
    "* Analyze monthly trends to adjust spending during peak months when lead generation is naturally high.\n",
    "\n",
    "### 5. Diversify Lead Generation Channels\n",
    "* Identify underperforming marketing channels and test new platforms (e.g., social media, organic search, or partnerships).\n",
    "* Reduce reliance on a single channel to minimize risk in case of declining effectiveness."
   ]
  },
  {
   "cell_type": "markdown",
   "id": "d91e21f1",
   "metadata": {},
   "source": [
    "# Precautions (To Avoid Misinterpretations & Errors)\n",
    "\n",
    "### 1. Ensure Data Consistency & Completeness\n",
    "* Regularly clean the dataset to remove duplicates and fill missing values before making business decisions.\n",
    "* Standardize data entry processes to prevent inconsistencies.\n",
    "\n",
    "### 2. Validate Marketing Attribution\n",
    "* Cross-check whether leads are correctly assigned to the right campaign and partner to avoid false conclusions.\n",
    "* Implement UTM parameters or tracking links to accurately capture lead sources.\n",
    "\n",
    "### 3. Beware of Seasonal Fluctuations\n",
    "* Monthly lead trends may not be consistent year-round. Consider seasonal variations before adjusting budgets.\n",
    "* Compare year-over-year data to identify recurring patterns rather than relying only on recent months.\n",
    "\n",
    "### 4. Segregate High-Quality vs. Low-Quality Leads\n",
    "* A high number of leads from a campaign does not guarantee quality.\n",
    "* Conduct further analysis on lead qualification, response rates, and actual sales impact.\n",
    "\n",
    "### 5. Monitor Data Accuracy in SQL Queries\n",
    "* Always verify column names and data types before executing SQL queries to avoid errors.\n",
    "* Use PRAGMA table_info(leads); to inspect the database structure and prevent execution failures."
   ]
  }
 ],
 "metadata": {
  "kernelspec": {
   "display_name": "Python 3 (ipykernel)",
   "language": "python",
   "name": "python3"
  },
  "language_info": {
   "codemirror_mode": {
    "name": "ipython",
    "version": 3
   },
   "file_extension": ".py",
   "mimetype": "text/x-python",
   "name": "python",
   "nbconvert_exporter": "python",
   "pygments_lexer": "ipython3",
   "version": "3.11.3"
  }
 },
 "nbformat": 4,
 "nbformat_minor": 5
}
